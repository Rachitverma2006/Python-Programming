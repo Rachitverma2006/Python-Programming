{
 "cells": [
  {
   "cell_type": "markdown",
   "metadata": {},
   "source": [
    "# OOP IN PYTHON"
   ]
  },
  {
   "cell_type": "code",
   "execution_count": 1,
   "metadata": {},
   "outputs": [
    {
     "name": "stdout",
     "output_type": "stream",
     "text": [
      "[] <class 'list'>\n"
     ]
    }
   ],
   "source": [
    "ls = list()\n",
    "print(ls,type(ls))"
   ]
  },
  {
   "cell_type": "code",
   "execution_count": null,
   "metadata": {},
   "outputs": [],
   "source": []
  },
  {
   "cell_type": "code",
   "execution_count": 7,
   "metadata": {},
   "outputs": [],
   "source": [
    "class Sample:\n",
    "    def __str__(self):\n",
    "        return \"[]\""
   ]
  },
  {
   "cell_type": "code",
   "execution_count": 9,
   "metadata": {},
   "outputs": [
    {
     "name": "stdout",
     "output_type": "stream",
     "text": [
      "[] <class '__main__.Sample'>\n"
     ]
    }
   ],
   "source": [
    "ks = Sample()\n",
    "print(ks,type(ks))\n"
   ]
  },
  {
   "cell_type": "markdown",
   "metadata": {},
   "source": [
    "# SELF : - Self is the current instrance of the class"
   ]
  },
  {
   "cell_type": "code",
   "execution_count": 16,
   "metadata": {},
   "outputs": [
    {
     "name": "stdout",
     "output_type": "stream",
     "text": [
      "15\n"
     ]
    }
   ],
   "source": [
    "class calculator:\n",
    "    def add(self,n1,n2):\n",
    "        print(n1+n2)\n",
    " \n",
    "num1 = 10\n",
    "num2 = 5       \n",
    "o1 = calculator()\n",
    "o1.add(num1,num2)\n"
   ]
  },
  {
   "cell_type": "code",
   "execution_count": 14,
   "metadata": {},
   "outputs": [
    {
     "name": "stdout",
     "output_type": "stream",
     "text": [
      "15\n"
     ]
    }
   ],
   "source": [
    "class calc:\n",
    "    def __init__(self,n1,n2):\n",
    "        self.n1 = n1\n",
    "        self.n2 = n2\n",
    "    def add(self):\n",
    "        print(self.n1+self.n2)\n",
    " \n",
    "num1 = 10\n",
    "num2 = 5       \n",
    "o1 = calc(num1,num2)\n",
    "o1.add()\n"
   ]
  },
  {
   "cell_type": "code",
   "execution_count": 18,
   "metadata": {},
   "outputs": [
    {
     "name": "stdout",
     "output_type": "stream",
     "text": [
      "updated value of b is 15\n"
     ]
    }
   ],
   "source": [
    "class Sample():\n",
    "    def __init__(self):\n",
    "        self.b = 10\n",
    "    def disp(self):\n",
    "        print(f\"updated value of b is {self.b}\")\n",
    "        \n",
    "o = Sample()\n",
    "o.b += 5\n",
    "o.disp()"
   ]
  },
  {
   "cell_type": "markdown",
   "metadata": {},
   "source": [
    "# 17-01-2025"
   ]
  },
  {
   "cell_type": "code",
   "execution_count": 10,
   "metadata": {},
   "outputs": [
    {
     "name": "stdout",
     "output_type": "stream",
     "text": [
      "Student count 2\n"
     ]
    }
   ],
   "source": [
    "class Student:\n",
    "    count = 0\n",
    "    def __init__(self,name,rollno):\n",
    "        self.name = name\n",
    "        self.rollno = rollno\n",
    "        Student.count += 1\n",
    "    \n",
    "    \n",
    "    @classmethod   # CLASS DECORATOR.. \n",
    "    # WE CANT UPDATE ANY CLASS VARIABLE BY ANY INSTRANCE.  \n",
    "    def get_count(cls):\n",
    "        return f\"Student count {cls.count}\"\n",
    "        \n",
    "    \n",
    "    \n",
    "obj1 = Student(\"Ravi\",1212)\n",
    "obj2 = Student(\"Raj\",1213)\n",
    "\n",
    "\n",
    "# print(obj1.count)\n",
    "# print(obj2.count)\n",
    "\n",
    "# Student.count = 50\n",
    "obj1.count += 1\n",
    "print(obj1.get_count())\n",
    "# print(obj2.count)\n",
    "\n",
    "\n",
    "\n",
    "\n"
   ]
  }
 ],
 "metadata": {
  "kernelspec": {
   "display_name": ".venv",
   "language": "python",
   "name": "python3"
  },
  "language_info": {
   "codemirror_mode": {
    "name": "ipython",
    "version": 3
   },
   "file_extension": ".py",
   "mimetype": "text/x-python",
   "name": "python",
   "nbconvert_exporter": "python",
   "pygments_lexer": "ipython3",
   "version": "3.13.1"
  }
 },
 "nbformat": 4,
 "nbformat_minor": 2
}
